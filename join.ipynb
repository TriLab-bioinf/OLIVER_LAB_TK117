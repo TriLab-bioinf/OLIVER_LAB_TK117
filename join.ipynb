{
 "cells": [
  {
   "cell_type": "code",
   "execution_count": 13,
   "id": "6361ac43-dc4b-4a82-9b9d-8aaebe298014",
   "metadata": {
    "tags": []
   },
   "outputs": [
    {
     "name": "stderr",
     "output_type": "stream",
     "text": [
      "\n",
      "Attaching package: ‘zoo’\n",
      "\n",
      "\n",
      "The following objects are masked from ‘package:base’:\n",
      "\n",
      "    as.Date, as.Date.numeric\n",
      "\n",
      "\n"
     ]
    }
   ],
   "source": [
    "library(ggplot2)\n",
    "library(dplyr)\n",
    "library(RColorBrewer)\n",
    "library(ggthemes)\n",
    "library(zoo)"
   ]
  },
  {
   "cell_type": "code",
   "execution_count": 8,
   "id": "ac6f5f32-4ea7-436f-bd66-dd8f8150f255",
   "metadata": {
    "tags": []
   },
   "outputs": [],
   "source": [
    "lists <- c(\"BM-1\",\"BM-21\",\"BM-24\",\"BM-4\",\"BM-46\",\"BM-5\",\"BM-6\")"
   ]
  },
  {
   "cell_type": "code",
   "execution_count": 50,
   "id": "2cd490d7-20c9-4498-a7a9-360c7a5d3ed6",
   "metadata": {
    "tags": []
   },
   "outputs": [],
   "source": [
    "annotation <- read.delim(\"/gpfs/gsfs12/users/wangy80/TK105/data/00ref/dmel-all-r6.46.gene.anno.txt\",header=F,sep=\"\\t\")\n",
    "names(annotation) <- c(\"chr\",\"start\",\"end\",\"strand\",\"GeneID\",\"Gene_name\")\n",
    "annotation <- annotation[which(annotation$chr==\"2L\" | annotation$chr==\"2R\" | annotation$chr==\"3L\" | annotation$chr==\"3R\"  | annotation$chr==\"X\"),]"
   ]
  },
  {
   "cell_type": "code",
   "execution_count": 69,
   "id": "70971ea7-8d25-4396-8a84-9ebbf0150cb0",
   "metadata": {
    "tags": []
   },
   "outputs": [],
   "source": [
    "for (i in 1:length(lists)) {\n",
    "    \n",
    "    DNA_res <- read.delim(paste0(\"/gpfs/gsfs12/users/wangy80/TK117/results/03map_reads2/filter/\",lists[i],\".w100000_s10000.txt\"),sep=\"\\t\",header=F)\n",
    "    names(DNA_res) <- c(\"chr\",\"start\",\"end\",\"count\")\n",
    "    DNA_res2 <- DNA_res[which(DNA_res$chr == \"2L\" | DNA_res$chr == \"2R\" | DNA_res$chr == \"3L\" | DNA_res$chr == \"3R\" |  DNA_res$chr == \"X\"), ]\n",
    "    DNA_res2$class <- \"DNA\"\n",
    "    \n",
    "    name <- gsub(\"-\",\"\",lists[i])\n",
    "    RNA_res_Adult <- read.delim(paste0(\"/gpfs/gsfs12/users/wangy80/TK105/Age/DE/\",\"Adult_Condition_\",name,\"_vs_Control_Adult_DESeq2.txt\"),sep=\"\\t\",header=T)\n",
    "    RNA_res_Adult$class <- \"Adult\"\n",
    "    RNA_res_Adult$log2FoldChange <- ifelse(RNA_res_Adult$padj<0.05,RNA_res_Adult$log2FoldChange,0)\n",
    "    RNA_res_Adult2 <- inner_join(RNA_res_Adult,annotation,by=\"Gene_name\")\n",
    "    \n",
    "    RNA_res_L3 <- read.delim(paste0(\"/gpfs/gsfs12/users/wangy80/TK105/Age/DE/\",\"L3_Condition_\",name,\"_vs_Control_L3_DESeq2.txt\"),sep=\"\\t\",header=T)\n",
    "    RNA_res_L3$class <- \"L3\"\n",
    "    RNA_res_L3$log2FoldChange <- ifelse(RNA_res_L3$padj<0.05,RNA_res_L3$log2FoldChange,0)\n",
    "    RNA_res_L3.2 <- inner_join(RNA_res_L3,annotation,by=\"Gene_name\")\n",
    "    \n",
    "    # Define window size\n",
    "    window_size = 50\n",
    "    \n",
    "    # Sort genes by location\n",
    "    sorted_genes.Adult <- RNA_res_Adult2 %>% arrange(chr, start)\n",
    "        \n",
    "    # Calculate sliding window averages for each chromosome\n",
    "    sliding_window_averages.Adult <- sorted_genes.Adult %>%\n",
    "    group_by(chr) %>%\n",
    "    mutate(window_average = rollapply(log2FoldChange, window_size, mean, align = \"left\", fill = NA)) %>%\n",
    "    filter(!is.na(window_average))\n",
    "    \n",
    "    # Sort genes by location\n",
    "    sorted_genes.L3 <- RNA_res_L3.2 %>% arrange(chr, start)\n",
    "        \n",
    "    # Calculate sliding window averages for each chromosome\n",
    "    sliding_window_averages.L3 <- sorted_genes.L3 %>%\n",
    "    group_by(chr) %>%\n",
    "    mutate(window_average = rollapply(log2FoldChange, window_size, mean, align = \"left\", fill = NA)) %>%\n",
    "    filter(!is.na(window_average))\n",
    "        \n",
    "    RNA_res <- rbind(sliding_window_averages.Adult,sliding_window_averages.L3)\n",
    "    RNA_res2 <- RNA_res[,c(8,9,10,13,7)]\n",
    "    names(RNA_res2) <- c(\"chr\",\"start\",\"end\",\"count\",\"class\")\n",
    "   \n",
    "    res <- rbind(DNA_res2,RNA_res2)\n",
    "    \n",
    "    res$class <- factor(res$class,levels=c(\"Adult\",\"L3\",\"DNA\"))\n",
    "    #Plot the sliding window averages\n",
    "    p <- ggplot(res, aes(x = start, y = count,color=class)) +\n",
    "          #facet_wrap(~chr,ncol=1) +\n",
    "          facet_grid(class ~ chr,scales=\"free\") +\n",
    "          geom_line(alpha=1) +\n",
    "          labs(x = \"Location\", y = \"Scale\", title = \"Sliding Window by Chromosome\") +\n",
    "          scale_color_brewer(palette=\"Paired\") + \n",
    "          #ylim(c(-0.5,0.5)) +\n",
    "          geom_hline(yintercept=0,color=\"#999999\",linetype=2) +\n",
    "          theme_few()\n",
    "    \n",
    "    ggsave(filename = paste0(lists[i],\".pdf\"), plot = p, path = \"./Plots\", width = 30, height = 5)\n",
    "}"
   ]
  },
  {
   "cell_type": "code",
   "execution_count": null,
   "id": "b3d6cd2b-59f1-4975-a31b-cbb1f01dccea",
   "metadata": {},
   "outputs": [],
   "source": []
  }
 ],
 "metadata": {
  "kernelspec": {
   "display_name": "R/4.3",
   "language": "R",
   "name": "ir43"
  },
  "language_info": {
   "codemirror_mode": "r",
   "file_extension": ".r",
   "mimetype": "text/x-r-source",
   "name": "R",
   "pygments_lexer": "r",
   "version": "4.3.2"
  }
 },
 "nbformat": 4,
 "nbformat_minor": 5
}
